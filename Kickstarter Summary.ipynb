{
 "cells": [
  {
   "cell_type": "markdown",
   "metadata": {},
   "source": [
    "# Predicting Kickstater Success\n",
    "\n",
    "![title](http://the-lfb.com/wp-content/uploads/2013/05/kickstarter-thumbnail.jpg)"
   ]
  },
  {
   "cell_type": "markdown",
   "metadata": {},
   "source": [
    "# Summary:\n",
    "\n",
    "## What would I recommend?\n",
    "* Write more.\n",
    "* Use certain words (like \"we\" and \"you\") more, and use others (like \"I\") less\". \n",
    "* Set your goal low. \n",
    "* If you can, create a project in Technology, Games, or Food.\n",
    "\n",
    "## What tools did I use?\n",
    "* To ensure a repeatable environment, built a docker container with all the tools I used, including Pandsa, NLTK, and Tensorflow: https://github.com/aaronwro/docker-jupyter. To get started, install docker toolbox (windows or mac), then\n",
    "```bash\n",
    "git clone https://github.com/aaronwro/docker-jupyter\n",
    "docker-compose up jupyter\n",
    "```\n",
    "* Pandas for loading and cleaning data\n",
    "* NLTK for stopwords and stemming\n",
    "* Keras for building a deep learning model\n",
    "* Plotly and Matplotlib for plots\n",
    "\n",
    "## What would I do next?\n",
    "* Statistics on provided and LICW Features\n",
    " * Remove outliers (+/- 3 std deviations)\n",
    " * Confidence interval on \n",
    "* Deep learning model:\n",
    " * Word2Vec embeddings to teach the model more about language, semantics, and similar concepts.\n",
    " * Use the LIWC features as additional training inputs for the model.\n",
    " * Change the model to predict % funded instead of the binary label. \n",
    " * Multilayer convolutional network to allow the model to make more cross sentances inferences. \n",
    " * Set up GPU with Tensorflow on a local machine (ideal, better GPUs available) or in AWS (more expensive and slower) for faster training\n",
    " * Create an interactive experience for real-time feedback\n",
    "* Data collection\n",
    " * Use Beautiful soup to gather more Kickstarter campaigns. Almost 300k projects on kickstarter alone! \n",
    " * Use Beautiful soup to gather data on campaigns from other crowd-funded applications. \n",
    " * Gather metadata on presence of videos - present? length? can we get number of views?\n",
    " * Gather data on reward types, pricing, and language. Reward selection is very important for me personally.\n"
   ]
  },
  {
   "cell_type": "code",
   "execution_count": null,
   "metadata": {
    "collapsed": false
   },
   "outputs": [],
   "source": [
    "import pandas as pd\n",
    "import numpy as np\n",
    "import nltk\n",
    "\n",
    "import warnings # current version of seaborn generates a bunch of warnings that we'll ignore\n",
    "warnings.filterwarnings(\"ignore\")\n",
    "\n",
    "import plotly\n",
    "#print plotly.__version__  # version >1.9.4 required\n",
    "from plotly.offline import download_plotlyjs, init_notebook_mode, iplot, plot\n",
    "from plotly.graph_objs import *\n",
    "init_notebook_mode()\n",
    "import matplotlib.pyplot as plt\n",
    "#from wordcloud import WordCloud, STOPWORDS\n",
    "%matplotlib inline\n",
    "\n",
    "from dateutil import parser as dateparser\n",
    "from pygeocoder import Geocoder\n",
    "from time import sleep\n",
    "from tqdm import tqdm\n",
    "from geonamescache import GeonamesCache\n",
    "from termcolor import colored\n",
    "\n",
    "def get_len(row, column):\n",
    "    if not isinstance(row[column], basestring):\n",
    "        return 0\n",
    "    else:\n",
    "        return len(row[column])\n",
    "\n",
    "df = pd.read_csv('kickstarter_corpus_cleaned.csv')\n",
    "df['avg_pledge_per_backer'] = df['pledged'] / df['backers']\n",
    "df['percent_of_goal'] = df['pledged'] / df['goal']\n",
    "df['cleaned_words_len'] = df.apply(lambda row: get_len(row, 'cleaned_words'), axis=1)\n",
    "print '[kickstarter_corpus] shape: ' + str(df.shape)"
   ]
  },
  {
   "cell_type": "code",
   "execution_count": null,
   "metadata": {
    "collapsed": false
   },
   "outputs": [],
   "source": [
    "df.head(3)"
   ]
  },
  {
   "cell_type": "code",
   "execution_count": null,
   "metadata": {
    "collapsed": false
   },
   "outputs": [],
   "source": [
    "total_pledged_by_category = df[['category', 'funded', 'pledged']].groupby(['category', 'funded']).sum().reset_index()\n",
    "\n",
    "funded = Bar(\n",
    "    x=total_pledged_by_category.query('funded == True')['category'],\n",
    "    y=total_pledged_by_category.query('funded == True')['pledged'],\n",
    "    name='Funded'\n",
    ")\n",
    "\n",
    "not_funded = Bar(\n",
    "    x=total_pledged_by_category.query('funded == False')['category'],\n",
    "    y=total_pledged_by_category.query('funded == False')['pledged'],\n",
    "    name='Not Funded'\n",
    ")\n",
    "\n",
    "data = [funded, not_funded]\n",
    "layout = Layout(\n",
    "    title='total funds pledged by category',\n",
    "    barmode='group'\n",
    ")\n",
    "\n",
    "iplot(Figure(data=data, layout=layout))"
   ]
  },
  {
   "cell_type": "code",
   "execution_count": null,
   "metadata": {
    "collapsed": false
   },
   "outputs": [],
   "source": [
    "avg_pledged_by_category = df[['category', 'funded', 'pledged']].groupby(['category', 'funded']).mean().reset_index()\n",
    "\n",
    "funded = Bar(\n",
    "    x=avg_pledged_by_category.query('funded == True')['category'],\n",
    "    y=avg_pledged_by_category.query('funded == True')['pledged'],\n",
    "    name='Funded'\n",
    ")\n",
    "\n",
    "not_funded = Bar(\n",
    "    x=avg_pledged_by_category.query('funded == False')['category'],\n",
    "    y=avg_pledged_by_category.query('funded == False')['pledged'],\n",
    "    name='Not Funded'\n",
    ")\n",
    "\n",
    "data = [funded, not_funded]\n",
    "layout = Layout(\n",
    "    title='avg funds pledged by category',\n",
    "    barmode='group'\n",
    ")\n",
    "\n",
    "iplot(Figure(data=data, layout=layout))"
   ]
  },
  {
   "cell_type": "code",
   "execution_count": null,
   "metadata": {
    "collapsed": false
   },
   "outputs": [],
   "source": [
    "avg_percent_over_goal_by_category = df[['category', 'funded', 'percent_of_goal']].groupby(['category', 'funded']).mean().reset_index()\n",
    "\n",
    "funded = Bar(\n",
    "    x=avg_percent_over_goal_by_category.query('funded == True')['category'],\n",
    "    y=avg_percent_over_goal_by_category.query('funded == True')['percent_of_goal'],\n",
    "    name='Funded'\n",
    ")\n",
    "\n",
    "not_funded = Bar(\n",
    "    x=avg_percent_over_goal_by_category.query('funded == False')['category'],\n",
    "    y=avg_percent_over_goal_by_category.query('funded == False')['percent_of_goal'],\n",
    "    name='Not Funded'\n",
    ")\n",
    "\n",
    "data = [funded, not_funded]\n",
    "layout = Layout(\n",
    "    title='avg % of goal pledged by category',\n",
    "    barmode='group'\n",
    ")\n",
    "\n",
    "iplot(Figure(data=data, layout=layout))"
   ]
  },
  {
   "cell_type": "code",
   "execution_count": null,
   "metadata": {
    "collapsed": false
   },
   "outputs": [],
   "source": [
    "text_len_by_category = df[['category', 'funded', 'cleaned_words_len']].groupby(['category', 'funded']).mean().reset_index()\n",
    "\n",
    "funded = Bar(\n",
    "    x=text_len_by_category.query('funded == True')['category'],\n",
    "    y=text_len_by_category.query('funded == True')['cleaned_words_len'],\n",
    "    name='Funded'\n",
    ")\n",
    "\n",
    "not_funded = Bar(\n",
    "    x=text_len_by_category.query('funded == False')['category'],\n",
    "    y=text_len_by_category.query('funded == False')['cleaned_words_len'],\n",
    "    name='Not Funded'\n",
    ")\n",
    "\n",
    "data = [funded, not_funded]\n",
    "layout = Layout(\n",
    "    title='text length by category',\n",
    "    barmode='group'\n",
    ")\n",
    "\n",
    "iplot(Figure(data=data, layout=layout))"
   ]
  },
  {
   "cell_type": "code",
   "execution_count": null,
   "metadata": {
    "collapsed": false
   },
   "outputs": [],
   "source": [
    "goal_by_category = df[['category', 'funded', 'goal']].groupby(['category', 'funded']).mean().reset_index()\n",
    "\n",
    "funded = Bar(\n",
    "    x=goal_by_category.query('funded == True')['category'],\n",
    "    y=goal_by_category.query('funded == True')['goal'],\n",
    "    name='Funded'\n",
    ")\n",
    "\n",
    "not_funded = Bar(\n",
    "    x=goal_by_category.query('funded == False')['category'],\n",
    "    y=goal_by_category.query('funded == False')['goal'],\n",
    "    name='Not Funded'\n",
    ")\n",
    "\n",
    "data = [funded, not_funded]\n",
    "layout = Layout(\n",
    "    title='avg. goal by category',\n",
    "    barmode='group'\n",
    ")\n",
    "\n",
    "iplot(Figure(data=data, layout=layout))"
   ]
  },
  {
   "cell_type": "code",
   "execution_count": null,
   "metadata": {
    "collapsed": false
   },
   "outputs": [],
   "source": [
    "layout = Layout(title='goal by category for funded projects')\n",
    "iplot(Figure(data=[Box(y = df[df.funded==True][df.category==category]['goal'], name=category, showlegend=True) for category in df.sort_values(by='category').category.unique()], layout=layout), show_link=False,)"
   ]
  },
  {
   "cell_type": "code",
   "execution_count": null,
   "metadata": {
    "collapsed": false
   },
   "outputs": [],
   "source": [
    "avg_text_len_by_category = df[['category', 'funded', 'cleaned_words_len']].groupby(['category', 'funded']).mean().reset_index()\n",
    "\n",
    "funded = Bar(\n",
    "    x=avg_text_len_by_category.query('funded == True')['category'],\n",
    "    y=avg_text_len_by_category.query('funded == True')['cleaned_words_len'],\n",
    "    name='Funded'\n",
    ")\n",
    "\n",
    "not_funded = Bar(\n",
    "    x=avg_text_len_by_category.query('funded == False')['category'],\n",
    "    y=avg_text_len_by_category.query('funded == False')['cleaned_words_len'],\n",
    "    name='Not Funded'\n",
    ")\n",
    "\n",
    "data = [funded, not_funded]\n",
    "layout = Layout(\n",
    "    title='avg text length by category',\n",
    "    barmode='group'\n",
    ")\n",
    "\n",
    "iplot(Figure(data=data, layout=layout))"
   ]
  },
  {
   "cell_type": "code",
   "execution_count": null,
   "metadata": {
    "collapsed": false
   },
   "outputs": [],
   "source": [
    "from scipy.misc import imread\n",
    "from wordcloud import WordCloud, STOPWORDS\n",
    "\n",
    "kickstarter_mask = imread('./kickstarter.png', flatten=True)\n",
    "\n",
    "wordcloud = WordCloud(\n",
    "                      stopwords=STOPWORDS,\n",
    "                      background_color='white',\n",
    "                      width=1800,\n",
    "                      height=1400,\n",
    "                      mask=kickstarter_mask\n",
    "                     ).generate(' '.join(df[df.funded==True]['stemmed_words']))\n",
    "\n",
    "plt.figure(figsize=(10,10))\n",
    "plt.imshow(wordcloud)\n",
    "plt.axis('off')\n",
    "plt.savefig('./funded_kickstarter_wordcloud.png', dpi=300)\n",
    "plt.show()"
   ]
  },
  {
   "cell_type": "code",
   "execution_count": null,
   "metadata": {
    "collapsed": false
   },
   "outputs": [],
   "source": [
    "kickstarter_mask = imread('./kickstarter.png', flatten=True)\n",
    "\n",
    "wordcloud = WordCloud(\n",
    "                      stopwords=STOPWORDS,\n",
    "                      background_color='white',\n",
    "                      width=1800,\n",
    "                      height=1400,\n",
    "                      mask=kickstarter_mask\n",
    "                     ).generate(' '.join(df[df.funded==False]['stemmed_words']))\n",
    "\n",
    "plt.figure(figsize=(10,10))\n",
    "plt.imshow(wordcloud)\n",
    "plt.axis('off')\n",
    "plt.savefig('./not_funded_kickstarter_wordcloud.png', dpi=300)\n",
    "plt.show()"
   ]
  },
  {
   "cell_type": "code",
   "execution_count": null,
   "metadata": {
    "collapsed": false
   },
   "outputs": [],
   "source": [
    "avgs = df[['category', 'funded', 'cleaned_words_len', 'avg_pledge_per_backer', 'goal']].groupby(['category', 'funded']).mean().reset_index()\n",
    "avgs"
   ]
  },
  {
   "cell_type": "code",
   "execution_count": null,
   "metadata": {
    "collapsed": false
   },
   "outputs": [],
   "source": [
    "from scipy import stats\n",
    "import statsmodels.stats.api as sms\n",
    "\n",
    "stats_columns=['Column', '% Diff (funded - not_funded)', 'p_value']\n",
    "#stats_columns=['Column', '% Diff (funded - not_funded)', 'Confidence Lower', 'Confidence Upper', 'p_value']\n",
    "\n",
    "def percent_diff(a,b):\n",
    "    return 100 * (a-b)/((a+b)/2)\n",
    "\n",
    "def get_stats_df(df, col):\n",
    "    funded = df[df.funded == True][col]\n",
    "    not_funded = df[df.funded == False][col]\n",
    "    t_test = stats.ttest_ind(funded, not_funded)\n",
    "    #cm = sms.CompareMeans(sms.DescrStatsW(funded), sms.DescrStatsW(not_funded))\n",
    "    out_df = pd.DataFrame(columns=stats_columns)\n",
    "    out_df = out_df.append(pd.Series([col,percent_diff(np.mean(funded), np.mean(not_funded)),t_test[1]], index=stats_columns), ignore_index=True)\n",
    "    #out_df = out_df.append(pd.Series([col,percent_diff(np.mean(funded), np.mean(not_funded)),cm.tconfint_diff(usevar='unequal')[0],cm.tconfint_diff(usevar='unequal')[1],t_test[1]], index=stats_columns), ignore_index=True)\n",
    "    return out_df\n",
    "\n",
    "def print_stats(df, col):\n",
    "    funded = df[df.funded == True][col]\n",
    "    not_funded = df[df.funded == False][col]\n",
    "    result = stats.ttest_ind(funded, not_funded)\n",
    "    percent_diff = 100 * (np.mean(funded) - np.mean(not_funded))\n",
    "    if result[1] < 0.05:\n",
    "        color = 'green'\n",
    "    else:\n",
    "        color = 'grey'\n",
    "    print colored(' \\t '.join([col, str(percent_diff), str(result[1])]), color)\n",
    "\n",
    "#for category in df.sort_values(by='category').category.unique():\n",
    "#    print '====== {} ======'.format(category)\n",
    "#    print_stats(col, category=category)\n",
    "\n",
    "#print ' \\t '.join(stats_columns)\n",
    "#print_stats(df, 'cleaned_words_len')\n",
    "#print_stats(df[~df.avg_pledge_per_backer.isnull()], 'avg_pledge_per_backer')\n",
    "#print_stats(df, 'goal')\n",
    "\n",
    "stats_df = pd.DataFrame(columns=stats_columns)\n",
    "stats_df = stats_df.append(get_stats_df(df, 'cleaned_words_len'))\n",
    "stats_df = stats_df.append(get_stats_df(df[~df.avg_pledge_per_backer.isnull()], 'avg_pledge_per_backer'))\n",
    "stats_df = stats_df.append(get_stats_df(df, 'goal'))\n",
    "stats_df[stats_df.p_value < 0.05]"
   ]
  },
  {
   "cell_type": "code",
   "execution_count": null,
   "metadata": {
    "collapsed": false
   },
   "outputs": [],
   "source": [
    "# LIWC stats\n",
    "# http://lit.eecs.umich.edu/~geoliwc/LIWC_Dictionary.htm\n",
    "\n",
    "liwc_df = pd.read_csv('kickstarter_assignment/LIWC2015_kickstarter_corpus_cleaned.csv')\n",
    "liwc_columns = ['WC', 'Analytic', 'Clout', 'Authentic', 'Tone', 'WPS', 'Sixltr','Dic', 'function', 'pronoun', 'ppron', 'i', 'we', 'you', 'shehe','they', 'ipron', 'article', 'prep', 'auxverb', 'adverb', 'conj','negate', 'verb', 'adj', 'compare', 'interrog', 'number', 'quant','affect', 'posemo', 'negemo', 'anx', 'anger', 'sad', 'social','family', 'friend', 'female', 'male', 'cogproc', 'insight', 'cause','discrep', 'tentat', 'certain', 'differ', 'percept', 'see', 'hear','feel', 'bio', 'body', 'health', 'sexual', 'ingest', 'drives','affiliation', 'achieve', 'power', 'reward', 'risk', 'focuspast','focuspresent', 'focusfuture', 'relativ', 'motion', 'space', 'time','work', 'leisure', 'home', 'money', 'relig', 'death', 'informal','swear', 'netspeak', 'assent', 'nonflu', 'filler', 'AllPunc','Period', 'Comma', 'Colon', 'SemiC', 'QMark', 'Exclam', 'Dash','Quote', 'Apostro', 'Parenth', 'OtherP']\n",
    "stats_df = pd.DataFrame(columns=stats_columns)\n",
    "for col in liwc_columns:\n",
    "    stats_df = stats_df.append(get_stats_df(liwc_df, col))\n",
    "stats_df[stats_df.p_value < 0.05].sort_values('% Diff (funded - not_funded)', ascending=False)"
   ]
  },
  {
   "cell_type": "code",
   "execution_count": null,
   "metadata": {
    "collapsed": false
   },
   "outputs": [],
   "source": []
  },
  {
   "cell_type": "code",
   "execution_count": null,
   "metadata": {
    "collapsed": false
   },
   "outputs": [],
   "source": []
  },
  {
   "cell_type": "code",
   "execution_count": null,
   "metadata": {
    "collapsed": false
   },
   "outputs": [],
   "source": []
  },
  {
   "cell_type": "code",
   "execution_count": null,
   "metadata": {
    "collapsed": false
   },
   "outputs": [],
   "source": []
  },
  {
   "cell_type": "code",
   "execution_count": null,
   "metadata": {
    "collapsed": false
   },
   "outputs": [],
   "source": []
  },
  {
   "cell_type": "code",
   "execution_count": null,
   "metadata": {
    "collapsed": true
   },
   "outputs": [],
   "source": []
  }
 ],
 "metadata": {
  "kernelspec": {
   "display_name": "Python 2",
   "language": "python",
   "name": "python2"
  },
  "language_info": {
   "codemirror_mode": {
    "name": "ipython",
    "version": 2
   },
   "file_extension": ".py",
   "mimetype": "text/x-python",
   "name": "python",
   "nbconvert_exporter": "python",
   "pygments_lexer": "ipython2",
   "version": "2.7.11"
  }
 },
 "nbformat": 4,
 "nbformat_minor": 0
}
